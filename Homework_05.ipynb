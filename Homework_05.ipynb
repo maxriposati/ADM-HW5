{
 "cells": [
  {
   "cell_type": "code",
   "execution_count": 1,
   "metadata": {},
   "outputs": [],
   "source": [
    "#importing libraries\n",
    "import networkx as nx\n",
    "import numpy as np\n",
    "import pandas as pd\n",
    "from collections import defaultdict\n",
    "import functions_hw5 as fn"
   ]
  },
  {
   "cell_type": "code",
   "execution_count": 2,
   "metadata": {},
   "outputs": [],
   "source": [
    "#Categories\n",
    "#Here I created a dictionary with each category and the articles that contains\n",
    "categories = {}\n",
    "with open(\"wiki-topcats-categories.txt\") as f:\n",
    "    for line in f:\n",
    "        (key, val) = line.lstrip('Category:').rstrip('\\n').split(\";\")        \n",
    "        keys = val.split(\" \")[1:]\n",
    "        #keep only the categories with more that 3500 articles\n",
    "        if len(keys) >= 3500:\n",
    "            categories[key] = val.split(\" \")[1:]\n",
    "            \n",
    "#flatten list with all the articles contained in the categories that we are interested in            \n",
    "elements = set([x for cat in categories for x in categories[cat]])"
   ]
  },
  {
   "cell_type": "code",
   "execution_count": 3,
   "metadata": {},
   "outputs": [],
   "source": [
    "#EDGES\n",
    "#here I created a list with all the edges of the graph\n",
    "edges = []\n",
    "with open(\"wiki-topcats-reduced.txt\") as f:\n",
    "    for line in f:\n",
    "        a, b = line.rstrip('\\n').split(\"\\t\")\n",
    "        if a in elements and b in elements:\n",
    "            edges.append((a,b))"
   ]
  },
  {
   "cell_type": "code",
   "execution_count": 4,
   "metadata": {},
   "outputs": [],
   "source": [
    "#Names\n",
    "#Here is a dictinoary with the name of every articles, That would be useful in the final print of the results,\n",
    "#for now let's just work for the numbers-ID since it's easier\n",
    "names = {}\n",
    "with open(\"wiki-topcats-page-names.txt\") as f:\n",
    "    for line in f:\n",
    "        (key, val) = line.rstrip('\\n').split(\" \",1)\n",
    "        names[key] = val"
   ]
  },
  {
   "cell_type": "code",
   "execution_count": 5,
   "metadata": {},
   "outputs": [],
   "source": [
    "#Graph creation\n",
    "#Creation of graph and\n",
    "G = nx.DiGraph()\n",
    "G.add_edges_from(edges,weight=1)\n",
    "\n",
    "#Assign name attribute to every node of the graph\n",
    "for node in G.nodes():\n",
    "    G.node[node]['name'] = names[node]\n",
    "    \n",
    "#Assing categories attribute to every node of the graph\n",
    "#ATTENTION!!!Some nodes are belonging to more than one categories\n",
    "for cat in categories:\n",
    "    for n in categories[cat]:\n",
    "        if G.has_node(n):\n",
    "        #if the node is already belonging to a categore we append the new category to the category attribute\n",
    "            if 'category' in G.node[n].keys():\n",
    "                G.node[n]['category'].append(cat)\n",
    "        #if the node is not on the other hand we create a list with a single element\n",
    "            else:\n",
    "                G.node[n]['category'] = [cat]\n",
    "                  \n",
    "    \n",
    "#delete nodes in categories dictionary values that are not in the graph.\n",
    "for cat in categories.keys():\n",
    "    categories[cat] = [node for node in categories[cat] if node in G.nodes()]"
   ]
  },
  {
   "cell_type": "code",
   "execution_count": 6,
   "metadata": {},
   "outputs": [],
   "source": [
    "E = G.number_of_edges() #number of edges    ## len(edges)\n",
    "V = G.number_of_nodes() #number of nodes    ## len(set([y for x in Edges for y in x]))\n",
    "\n",
    "#s = []\n",
    "##for node in G.nodes():\n",
    "#    s.append(G.degree[node])\n",
    "#avg_node_degee = np.mean(s) #average node degree"
   ]
  },
  {
   "cell_type": "code",
   "execution_count": 7,
   "metadata": {},
   "outputs": [
    {
     "name": "stdout",
     "output_type": "stream",
     "text": [
      "G is directed Graph:  True\n",
      "number of edges:  2645247\n",
      "number of nodes:  461193\n",
      "Average in-node/predecessors degree:  5.7357\n",
      "Average out-node/successors degree:  5.7357\n"
     ]
    }
   ],
   "source": [
    "print('G is directed Graph: ',G.is_directed())\n",
    "print('number of edges: ',E)\n",
    "print('number of nodes: ',V)\n",
    "#since it is a directed graph:\n",
    "#avg node degree of input nodes or predecessors\n",
    "print('Average in-node/predecessors degree: ',float(nx.info(G).split('\\n')[-2].split(\" \")[-1]))\n",
    "#avg node degree of output nodes or successors\n",
    "print('Average out-node/successors degree: ',float(nx.info(G).split('\\n')[-1].split(\" \")[-1]))"
   ]
  },
  {
   "cell_type": "markdown",
   "metadata": {},
   "source": [
    "The [**Density**](https://en.wikipedia.org/wiki/Dense_graph) of a *directed* graph can be difined through this relation:\n",
    "\n",
    "\\begin{equation*}\n",
    "\\ \\frac{E}{V(V-1)}\\\\\n",
    "\\end{equation*}\n",
    "\n",
    "The maximum number of edges for an directed graph is V(V-1)  so the maximal density is 1 (for complete graphs) and the minimal density is 0 [(Coleman & Moré 1983)](https://epubs.siam.org/doi/10.1137/0720013)."
   ]
  },
  {
   "cell_type": "code",
   "execution_count": 8,
   "metadata": {},
   "outputs": [
    {
     "name": "stdout",
     "output_type": "stream",
     "text": [
      "The graph density is:  1.2436602635647606e-05\n"
     ]
    }
   ],
   "source": [
    "print('The graph density is: ',E/(V*(V-1)))  #graph density"
   ]
  },
  {
   "cell_type": "markdown",
   "metadata": {},
   "source": [
    "* **NOT** very dense"
   ]
  },
  {
   "cell_type": "markdown",
   "metadata": {},
   "source": [
    "# Block Ranking"
   ]
  },
  {
   "cell_type": "code",
   "execution_count": 9,
   "metadata": {},
   "outputs": [],
   "source": [
    "#random input category\n",
    "inp_cat = np.random.choice(list(categories.keys()),1)[0]\n",
    "\n",
    "#for matter of speed we have choosen as an input category the smallest in size:\n",
    "#inp_cat = 'Year_of_birth_unknown'"
   ]
  },
  {
   "cell_type": "markdown",
   "metadata": {},
   "source": [
    "Here we will try to compute the Block Ranking vector such that we order the categories according to their distance from the input one. In order to compute the distance between each category $C_{i}$ and the input $C_{0}$ we will use the formula below:\n",
    "\n",
    "\\begin{equation*}\n",
    "\\ Distance(C_{0},C_{i})\\; = \\;median(\\;shortest\\;path(C_{0},C_{i})\\;) \\\\\n",
    "\\end{equation*}\n"
   ]
  },
  {
   "cell_type": "markdown",
   "metadata": {},
   "source": [
    "In order to compute the shortest path we will apply the [Breadth First Search](https://en.wikipedia.org/wiki/Breadth-first_search) algorithm (BFS) since is computing all the possible shortest paths from a starting node to all the possible ones much quicker than other ones like [Dijkstra](https://en.wikipedia.org/wiki/Dijkstra%27s_algorithm) in contrast."
   ]
  },
  {
   "cell_type": "markdown",
   "metadata": {},
   "source": [
    "The results of the respective function will have the follow format:"
   ]
  },
  {
   "cell_type": "markdown",
   "metadata": {},
   "source": [
    "![](https://github.com/CriMenghini/ADM-2018/blob/master/Homework_5/imgs/sort_inside_categories.png?raw=true)"
   ]
  },
  {
   "cell_type": "code",
   "execution_count": 10,
   "metadata": {
    "scrolled": true
   },
   "outputs": [],
   "source": [
    "#block_ranking score of sorted categories to the input one.\n",
    "block_ranking = fn.blockRanking(inp_cat,categories,G)"
   ]
  },
  {
   "cell_type": "markdown",
   "metadata": {},
   "source": [
    "# Updating Categories containing unique elements"
   ]
  },
  {
   "cell_type": "markdown",
   "metadata": {},
   "source": [
    "**Delete** elements existing in more than one categories and defining the unique nodes new_categories\n",
    "\n",
    "we are doing that since we noticed that one article might belong to a single category or multiple ones. \n",
    "In the case it belongs to more than one:\n",
    "\n",
    " - If the article belongs to the input category it belongs to that one.\n",
    "    \n",
    " - Otherwise, the category of the article will correspond, among the categories it belongs to, to the closest to the input category."
   ]
  },
  {
   "cell_type": "code",
   "execution_count": 11,
   "metadata": {},
   "outputs": [],
   "source": [
    "#defining a set with all the articles of the input category\n",
    "seen = set(categories[inp_cat])\n",
    "#dictionary creation with the new_categories updated since there are elements in only one category\n",
    "#according to the rules above\n",
    "#this dictionary will be SORTED accorting to the blockRanking vector\n",
    "new_categories = {inp_cat:categories[inp_cat]}\n",
    "for _,cat in block_ranking[1:]:\n",
    "    c = []\n",
    "    for art in categories[cat]:\n",
    "        if art not in seen:\n",
    "            seen.add(art)\n",
    "            c.append(art)\n",
    "    new_categories[cat] = c\n",
    "    \n",
    "#update the category attribute of the graph according to the updated new_category.  \n",
    "for cat in new_categories:\n",
    "    for n in new_categories[cat]:\n",
    "            G.node[n]['category'] = cat"
   ]
  },
  {
   "cell_type": "markdown",
   "metadata": {},
   "source": [
    "### **Block Ranking Vector**"
   ]
  },
  {
   "cell_type": "code",
   "execution_count": 12,
   "metadata": {
    "scrolled": true
   },
   "outputs": [
    {
     "data": {
      "text/html": [
       "<div>\n",
       "<style scoped>\n",
       "    .dataframe tbody tr th:only-of-type {\n",
       "        vertical-align: middle;\n",
       "    }\n",
       "\n",
       "    .dataframe tbody tr th {\n",
       "        vertical-align: top;\n",
       "    }\n",
       "\n",
       "    .dataframe thead th {\n",
       "        text-align: right;\n",
       "    }\n",
       "</style>\n",
       "<table border=\"1\" class=\"dataframe\">\n",
       "  <thead>\n",
       "    <tr style=\"text-align: right;\">\n",
       "      <th></th>\n",
       "      <th>Distance</th>\n",
       "      <th>Category</th>\n",
       "    </tr>\n",
       "  </thead>\n",
       "  <tbody>\n",
       "    <tr>\n",
       "      <th>0</th>\n",
       "      <td>0.0</td>\n",
       "      <td>American_film_actors</td>\n",
       "    </tr>\n",
       "    <tr>\n",
       "      <th>1</th>\n",
       "      <td>4.0</td>\n",
       "      <td>American_Jews</td>\n",
       "    </tr>\n",
       "    <tr>\n",
       "      <th>2</th>\n",
       "      <td>4.0</td>\n",
       "      <td>American_films</td>\n",
       "    </tr>\n",
       "    <tr>\n",
       "      <th>3</th>\n",
       "      <td>4.0</td>\n",
       "      <td>American_television_actors</td>\n",
       "    </tr>\n",
       "    <tr>\n",
       "      <th>4</th>\n",
       "      <td>4.0</td>\n",
       "      <td>Article_Feedback_Pilot</td>\n",
       "    </tr>\n",
       "    <tr>\n",
       "      <th>5</th>\n",
       "      <td>4.0</td>\n",
       "      <td>English-language_films</td>\n",
       "    </tr>\n",
       "    <tr>\n",
       "      <th>6</th>\n",
       "      <td>5.0</td>\n",
       "      <td>American_military_personnel_of_World_War_II</td>\n",
       "    </tr>\n",
       "    <tr>\n",
       "      <th>7</th>\n",
       "      <td>5.0</td>\n",
       "      <td>Black-and-white_films</td>\n",
       "    </tr>\n",
       "    <tr>\n",
       "      <th>8</th>\n",
       "      <td>5.0</td>\n",
       "      <td>British_films</td>\n",
       "    </tr>\n",
       "    <tr>\n",
       "      <th>9</th>\n",
       "      <td>5.0</td>\n",
       "      <td>Debut_albums</td>\n",
       "    </tr>\n",
       "    <tr>\n",
       "      <th>10</th>\n",
       "      <td>5.0</td>\n",
       "      <td>English-language_albums</td>\n",
       "    </tr>\n",
       "    <tr>\n",
       "      <th>11</th>\n",
       "      <td>5.0</td>\n",
       "      <td>English_television_actors</td>\n",
       "    </tr>\n",
       "    <tr>\n",
       "      <th>12</th>\n",
       "      <td>5.0</td>\n",
       "      <td>Fellows_of_the_Royal_Society</td>\n",
       "    </tr>\n",
       "    <tr>\n",
       "      <th>13</th>\n",
       "      <td>5.0</td>\n",
       "      <td>Harvard_University_alumni</td>\n",
       "    </tr>\n",
       "    <tr>\n",
       "      <th>14</th>\n",
       "      <td>5.0</td>\n",
       "      <td>Indian_films</td>\n",
       "    </tr>\n",
       "    <tr>\n",
       "      <th>15</th>\n",
       "      <td>5.0</td>\n",
       "      <td>Major_League_Baseball_pitchers</td>\n",
       "    </tr>\n",
       "    <tr>\n",
       "      <th>16</th>\n",
       "      <td>5.0</td>\n",
       "      <td>People_from_New_York_City</td>\n",
       "    </tr>\n",
       "    <tr>\n",
       "      <th>17</th>\n",
       "      <td>5.0</td>\n",
       "      <td>Place_of_birth_missing_(living_people)</td>\n",
       "    </tr>\n",
       "    <tr>\n",
       "      <th>18</th>\n",
       "      <td>6.0</td>\n",
       "      <td>Association_football_forwards</td>\n",
       "    </tr>\n",
       "    <tr>\n",
       "      <th>19</th>\n",
       "      <td>6.0</td>\n",
       "      <td>Association_football_midfielders</td>\n",
       "    </tr>\n",
       "    <tr>\n",
       "      <th>20</th>\n",
       "      <td>6.0</td>\n",
       "      <td>English_cricketers</td>\n",
       "    </tr>\n",
       "    <tr>\n",
       "      <th>21</th>\n",
       "      <td>6.0</td>\n",
       "      <td>English_footballers</td>\n",
       "    </tr>\n",
       "    <tr>\n",
       "      <th>22</th>\n",
       "      <td>6.0</td>\n",
       "      <td>Living_people</td>\n",
       "    </tr>\n",
       "    <tr>\n",
       "      <th>23</th>\n",
       "      <td>6.0</td>\n",
       "      <td>Members_of_the_United_Kingdom_Parliament_for_E...</td>\n",
       "    </tr>\n",
       "    <tr>\n",
       "      <th>24</th>\n",
       "      <td>6.0</td>\n",
       "      <td>The_Football_League_players</td>\n",
       "    </tr>\n",
       "    <tr>\n",
       "      <th>25</th>\n",
       "      <td>6.0</td>\n",
       "      <td>Windows_games</td>\n",
       "    </tr>\n",
       "    <tr>\n",
       "      <th>26</th>\n",
       "      <td>6.0</td>\n",
       "      <td>Year_of_birth_missing</td>\n",
       "    </tr>\n",
       "    <tr>\n",
       "      <th>27</th>\n",
       "      <td>6.0</td>\n",
       "      <td>Year_of_birth_missing_(living_people)</td>\n",
       "    </tr>\n",
       "    <tr>\n",
       "      <th>28</th>\n",
       "      <td>6.0</td>\n",
       "      <td>Year_of_birth_unknown</td>\n",
       "    </tr>\n",
       "    <tr>\n",
       "      <th>29</th>\n",
       "      <td>6.0</td>\n",
       "      <td>Year_of_death_missing</td>\n",
       "    </tr>\n",
       "    <tr>\n",
       "      <th>30</th>\n",
       "      <td>7.0</td>\n",
       "      <td>Association_football_defenders</td>\n",
       "    </tr>\n",
       "    <tr>\n",
       "      <th>31</th>\n",
       "      <td>7.0</td>\n",
       "      <td>Association_football_goalkeepers</td>\n",
       "    </tr>\n",
       "    <tr>\n",
       "      <th>32</th>\n",
       "      <td>7.0</td>\n",
       "      <td>Asteroids_named_for_people</td>\n",
       "    </tr>\n",
       "    <tr>\n",
       "      <th>33</th>\n",
       "      <td>7.0</td>\n",
       "      <td>Main_Belt_asteroids</td>\n",
       "    </tr>\n",
       "    <tr>\n",
       "      <th>34</th>\n",
       "      <td>7.0</td>\n",
       "      <td>Rivers_of_Romania</td>\n",
       "    </tr>\n",
       "  </tbody>\n",
       "</table>\n",
       "</div>"
      ],
      "text/plain": [
       "    Distance                                           Category\n",
       "0        0.0                               American_film_actors\n",
       "1        4.0                                      American_Jews\n",
       "2        4.0                                     American_films\n",
       "3        4.0                         American_television_actors\n",
       "4        4.0                             Article_Feedback_Pilot\n",
       "5        4.0                             English-language_films\n",
       "6        5.0        American_military_personnel_of_World_War_II\n",
       "7        5.0                              Black-and-white_films\n",
       "8        5.0                                      British_films\n",
       "9        5.0                                       Debut_albums\n",
       "10       5.0                            English-language_albums\n",
       "11       5.0                          English_television_actors\n",
       "12       5.0                       Fellows_of_the_Royal_Society\n",
       "13       5.0                          Harvard_University_alumni\n",
       "14       5.0                                       Indian_films\n",
       "15       5.0                     Major_League_Baseball_pitchers\n",
       "16       5.0                          People_from_New_York_City\n",
       "17       5.0             Place_of_birth_missing_(living_people)\n",
       "18       6.0                      Association_football_forwards\n",
       "19       6.0                   Association_football_midfielders\n",
       "20       6.0                                 English_cricketers\n",
       "21       6.0                                English_footballers\n",
       "22       6.0                                      Living_people\n",
       "23       6.0  Members_of_the_United_Kingdom_Parliament_for_E...\n",
       "24       6.0                        The_Football_League_players\n",
       "25       6.0                                      Windows_games\n",
       "26       6.0                              Year_of_birth_missing\n",
       "27       6.0              Year_of_birth_missing_(living_people)\n",
       "28       6.0                              Year_of_birth_unknown\n",
       "29       6.0                              Year_of_death_missing\n",
       "30       7.0                     Association_football_defenders\n",
       "31       7.0                   Association_football_goalkeepers\n",
       "32       7.0                         Asteroids_named_for_people\n",
       "33       7.0                                Main_Belt_asteroids\n",
       "34       7.0                                  Rivers_of_Romania"
      ]
     },
     "execution_count": 12,
     "metadata": {},
     "output_type": "execute_result"
    }
   ],
   "source": [
    "#block_ranking printing\n",
    "df = pd.DataFrame(list(block_ranking),columns=['Distance','Category'])\n",
    "df"
   ]
  },
  {
   "cell_type": "markdown",
   "metadata": {},
   "source": [
    "# Articles Sorting according to the score"
   ]
  },
  {
   "cell_type": "markdown",
   "metadata": {},
   "source": [
    "As final step now we will sort each aerticle inside every category. In order to do that we will follow the following illustration:"
   ]
  },
  {
   "cell_type": "markdown",
   "metadata": {},
   "source": [
    "![](https://github.com/CriMenghini/ADM-2018/raw/master/Homework_5/imgs/algorithm.PNG)"
   ]
  },
  {
   "cell_type": "markdown",
   "metadata": {},
   "source": [
    "*More specificly we have to compute for each subgraph the score of the nodes. Each time we have to create a subgraph consisted from the nodes of the nodes of all the previous categories and the nodes of the current category. If the predecessors of the node coming from the same category, they give to it score equal to one. On the other hand if they come from the previous categories other than the current they give to it score equal to their own score. This continues consequently until we create a total subgraph equal to the original one. Finally, we sort the nodes of each category according to their score from the greater to the smaller*"
   ]
  },
  {
   "cell_type": "code",
   "execution_count": 13,
   "metadata": {},
   "outputs": [],
   "source": [
    "#calculating the score for each node\n",
    "score = fn.scoring(new_categories,G)"
   ]
  },
  {
   "cell_type": "code",
   "execution_count": 14,
   "metadata": {},
   "outputs": [],
   "source": [
    "#final ranking list\n",
    "ranking = []\n",
    "\n",
    "#for every category in the new_categories dictionary that is sorted according to the category distance\n",
    "#we sort the articles according to the score dictionary\n",
    "for cat in new_categories:\n",
    "    s = []\n",
    "    for art in new_categories[cat]:\n",
    "        s.append((score[art],names[art]))\n",
    "    # in the end we have a list of the articles sorted according to the block ranking vector and the articles score\n",
    "    ranking.extend([x[1] for x in sorted(s,reverse=True)])"
   ]
  },
  {
   "cell_type": "code",
   "execution_count": 15,
   "metadata": {},
   "outputs": [
    {
     "name": "stdout",
     "output_type": "stream",
     "text": [
      "John Wayne\n",
      "Clint Eastwood\n",
      "Elvis Presley\n",
      "Woody Allen\n",
      "Frank Sinatra\n",
      "Steven Spielberg\n",
      "Marilyn Monroe\n",
      "Henry Fonda\n",
      "Lucille Ball\n",
      "Bette Davis\n",
      "Katharine Hepburn\n",
      "Cary Grant\n",
      "Dean Martin\n",
      "Joan Crawford\n",
      "Humphrey Bogart\n",
      "Al Pacino\n",
      "Robert De Niro\n",
      "Martin Scorsese\n",
      "Marlon Brando\n",
      "Tom Hanks\n",
      "Jack Nicholson\n",
      "Bing Crosby\n",
      "Ronald Reagan\n",
      "Cecil B. DeMille\n",
      "Orson Welles\n",
      "Adam Sandler\n",
      "Paul Newman\n",
      "Mickey Rooney\n",
      "Judy Garland\n",
      "James Cagney\n",
      "Burt Reynolds\n",
      "Clark Gable\n",
      "Charlton Heston\n",
      "Arnold Schwarzenegger\n",
      "Gary Cooper\n",
      "Robin Williams\n",
      "Tom Cruise\n",
      "Mary Pickford\n",
      "Bruce Willis\n",
      "Spencer Tracy\n",
      "Ginger Rogers\n",
      "Sean Penn\n",
      "Madonna (entertainer)\n",
      "Nicolas Cage\n",
      "Jack Lemmon\n",
      "Robert Redford\n",
      "Steve Martin\n",
      "Quentin Tarantino\n",
      "Meryl Streep\n",
      "Jerry Lewis\n"
     ]
    }
   ],
   "source": [
    "#results printing\n",
    "for i in ranking[:50]:\n",
    "    print(i)"
   ]
  },
  {
   "cell_type": "code",
   "execution_count": null,
   "metadata": {},
   "outputs": [],
   "source": []
  }
 ],
 "metadata": {
  "kernelspec": {
   "display_name": "Python 3",
   "language": "python",
   "name": "python3"
  },
  "language_info": {
   "codemirror_mode": {
    "name": "ipython",
    "version": 3
   },
   "file_extension": ".py",
   "mimetype": "text/x-python",
   "name": "python",
   "nbconvert_exporter": "python",
   "pygments_lexer": "ipython3",
   "version": "3.6.5"
  }
 },
 "nbformat": 4,
 "nbformat_minor": 2
}
